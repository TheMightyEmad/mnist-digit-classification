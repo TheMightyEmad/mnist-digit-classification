{
 "cells": [
  {
   "cell_type": "code",
   "execution_count": null,
   "id": "0e2c8edf-5741-4c2f-9521-bb5a69f0ec67",
   "metadata": {
    "id": "0e2c8edf-5741-4c2f-9521-bb5a69f0ec67"
   },
   "outputs": [],
   "source": [
    "# import the necessery libraries\n",
    "import pandas as pd\n",
    "import numpy as np\n",
    "import tensorflow as tf\n",
    "import matplotlib.pyplot as plt\n",
    "from tensorflow.keras.layers import Dense, Flatten\n",
    "from tensorflow.keras.models import Model,Sequential\n",
    "from tensorflow.keras.utils import to_categorical\n",
    "from sklearn.model_selection import train_test_split\n",
    "from tensorflow.keras.callbacks import EarlyStopping\n",
    "from tensorflow.keras.layers import Dense,Activation,Lambda,Dropout,Flatten,Conv2D,MaxPooling2D\n",
    "from tensorflow.keras.preprocessing.image import ImageDataGenerator\n",
    "import tensorflow.keras.backend as K"
   ]
  },
  {
   "cell_type": "code",
   "execution_count": null,
   "id": "qYyPmRxMdbg_",
   "metadata": {
    "colab": {
     "base_uri": "https://localhost:8080/"
    },
    "id": "qYyPmRxMdbg_",
    "outputId": "f5e5fa17-826e-4d8b-ac77-1bb2339b21c1"
   },
   "outputs": [],
   "source": [
    "''' use this code if you want to run this in google collab\n",
    "from google.colab import drive\n",
    "drive.mount('/content/drive')'''"
   ]
  },
  {
   "cell_type": "code",
   "execution_count": null,
   "id": "76d45229-6cba-4b2e-aa60-e21acfb2645e",
   "metadata": {
    "id": "76d45229-6cba-4b2e-aa60-e21acfb2645e"
   },
   "outputs": [],
   "source": [
    "# defining function for loading the training data and loading the data generator\n",
    "def load_dataset(csv_path):\n",
    "    df = pd.read_csv(csv_path)\n",
    "    labels = df['label'].values\n",
    "    images = df.drop('label', axis=1).values.reshape(-1, 28, 28, 1)  \n",
    "    images = images / 255.0  \n",
    "    return images, labels\n",
    "datagen = ImageDataGenerator(\n",
    "    rotation_range=10,\n",
    "    width_shift_range=0.1,\n",
    "    height_shift_range=0.1,\n",
    "    zoom_range=0.1,\n",
    "    fill_mode='nearest'\n",
    ")"
   ]
  },
  {
   "cell_type": "code",
   "execution_count": null,
   "id": "35a4e947-d279-40f0-9743-ed5b006284f6",
   "metadata": {
    "id": "35a4e947-d279-40f0-9743-ed5b006284f6"
   },
   "outputs": [],
   "source": [
    "# loading the data\n",
    "csv_path='train.csv'\n",
    "x_train, y_train = load_dataset(csv_path)"
   ]
  },
  {
   "cell_type": "code",
   "execution_count": null,
   "id": "ROUuYQ695Fbm",
   "metadata": {
    "id": "ROUuYQ695Fbm"
   },
   "outputs": [],
   "source": [
    "# spliting the train and dev\n",
    "x_train, x_dev, y_train, y_dev = train_test_split(x_train, y_train, test_size=0.2, random_state=42)"
   ]
  },
  {
   "cell_type": "code",
   "execution_count": null,
   "id": "f20b7706-8d1a-48fb-8e8a-11373c03fc81",
   "metadata": {
    "id": "f20b7706-8d1a-48fb-8e8a-11373c03fc81"
   },
   "outputs": [],
   "source": [
    "# reading, reshaping and normalizing the test data\n",
    "x_test = pd.read_csv('test.csv')\n",
    "x_test = x_test.values.reshape(-1, 28, 28, 1)\n",
    "x_test = x_test/255.0"
   ]
  },
  {
   "cell_type": "code",
   "execution_count": null,
   "id": "418948ee-b490-4e9c-a6b7-484c334ac881",
   "metadata": {
    "id": "418948ee-b490-4e9c-a6b7-484c334ac881"
   },
   "outputs": [],
   "source": [
    "# one-hot encoding the data\n",
    "y_train = to_categorical(y_train)\n",
    "y_dev = to_categorical(y_dev)"
   ]
  },
  {
   "cell_type": "code",
   "execution_count": null,
   "id": "_o-D20Dm8mvU",
   "metadata": {
    "id": "_o-D20Dm8mvU"
   },
   "outputs": [],
   "source": [
    "# fit the data to datagenerator\n",
    "datagen.fit(x_train)\n",
    "# Generate augmented data batches\n",
    "augmented_data = datagen.flow(x_train, y_train, batch_size=128)"
   ]
  },
  {
   "cell_type": "code",
   "execution_count": null,
   "id": "c9302fe7-0f9c-49ab-9edb-d6f535bcaaef",
   "metadata": {
    "id": "c9302fe7-0f9c-49ab-9edb-d6f535bcaaef"
   },
   "outputs": [],
   "source": [
    "...\n",
    "# define the mish function\n",
    "def mish(x):\n",
    "    return x * K.tanh(K.softplus(x))\n",
    "# define the model\n",
    "def cnn_model():\n",
    " model = Sequential()\n",
    " model.add(Conv2D(16, (5, 5), input_shape=(28, 28, 1)))\n",
    " model.add(Lambda(mish))\n",
    " model.add(MaxPooling2D(pool_size=(2, 2)))\n",
    " model.add(Conv2D(32, (3, 3)))\n",
    " model.add(Lambda(mish))\n",
    " model.add(MaxPooling2D(pool_size=(2, 2)))\n",
    " model.add(Dropout(0.1))\n",
    " model.add(Flatten())\n",
    " model.add(Dense(128, activation='relu'))\n",
    " model.add(Dense(50, activation='relu'))\n",
    " model.add(Dense(10, activation='softmax'))\n",
    " # Compile model\n",
    " model.compile(loss='categorical_crossentropy', optimizer='adam', metrics=['accuracy'])\n",
    " return model"
   ]
  },
  {
   "cell_type": "code",
   "execution_count": null,
   "id": "AQBQftoe1bb5",
   "metadata": {
    "id": "AQBQftoe1bb5"
   },
   "outputs": [],
   "source": [
    "# define early stopping monitor\n",
    "early_stopping = EarlyStopping(monitor='val_loss', patience=10)"
   ]
  },
  {
   "cell_type": "code",
   "execution_count": null,
   "id": "e9360e08-76f0-4c8b-b429-ab0fe90381ea",
   "metadata": {
    "colab": {
     "base_uri": "https://localhost:8080/",
     "height": 1000
    },
    "id": "e9360e08-76f0-4c8b-b429-ab0fe90381ea",
    "outputId": "97c39fde-449a-4c5e-b61a-e26887b06ece"
   },
   "outputs": [],
   "source": [
    "# build the model\n",
    "model = cnn_model()\n",
    "\n",
    "# Lists to store training history\n",
    "train_loss = []\n",
    "val_loss = []\n",
    "train_accuracy = []\n",
    "val_accuracy = []\n",
    "\n",
    "# Fit the model\n",
    "history = model.fit(augmented_data, validation_data=(x_dev, y_dev), epochs=100, batch_size=128, callbacks=[early_stopping])\n",
    "\n",
    "# Retrieve training history\n",
    "train_loss = history.history['loss']\n",
    "val_loss = history.history['val_loss']\n",
    "train_accuracy = history.history['accuracy']\n",
    "val_accuracy = history.history['val_accuracy']\n",
    "\n",
    "# Plot the training and validation accuracy\n",
    "plt.plot(train_accuracy, label='Training Accuracy')\n",
    "plt.plot(val_accuracy, label='Validation Accuracy')\n",
    "plt.xlabel('Epoch')\n",
    "plt.ylabel('Accuracy')\n",
    "plt.title('Training and Validation Accuracy')\n",
    "plt.legend()\n",
    "plt.show()\n"
   ]
  },
  {
   "cell_type": "code",
   "execution_count": null,
   "id": "74c27e66-bc05-4dbd-b36e-9b538495b933",
   "metadata": {
    "colab": {
     "base_uri": "https://localhost:8080/"
    },
    "id": "74c27e66-bc05-4dbd-b36e-9b538495b933",
    "outputId": "553e192e-5113-427d-a445-d2a2d9458e56"
   },
   "outputs": [],
   "source": [
    "# Predict labels for the test set\n",
    "predictions = model.predict(x_test)\n",
    "predicted_labels = np.argmax(predictions, axis=1)\n",
    "\n",
    "# Create a DataFrame with ImageId and Label columns\n",
    "results = pd.DataFrame({'ImageId': np.arange(1, len(predicted_labels) + 1), 'Label': predicted_labels})\n",
    "\n",
    "# export the data\n",
    "results.to_csv('predictions.csv', index=False)"
   ]
  }
 ],
 "metadata": {
  "accelerator": "GPU",
  "colab": {
   "gpuType": "T4",
   "provenance": []
  },
  "kernelspec": {
   "display_name": "Python 3 (ipykernel)",
   "language": "python",
   "name": "python3"
  },
  "language_info": {
   "codemirror_mode": {
    "name": "ipython",
    "version": 3
   },
   "file_extension": ".py",
   "mimetype": "text/x-python",
   "name": "python",
   "nbconvert_exporter": "python",
   "pygments_lexer": "ipython3",
   "version": "3.10.11"
  }
 },
 "nbformat": 4,
 "nbformat_minor": 5
}
